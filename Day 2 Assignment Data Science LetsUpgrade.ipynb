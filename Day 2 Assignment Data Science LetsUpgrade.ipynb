{
 "cells": [
  {
   "cell_type": "markdown",
   "metadata": {},
   "source": [
    "### Questions 1: Create an empty list. Accept 10 numbers from the user and append to it the list if it is an even number."
   ]
  },
  {
   "cell_type": "code",
   "execution_count": 1,
   "metadata": {},
   "outputs": [
    {
     "name": "stdout",
     "output_type": "stream",
     "text": [
      "Enter number 1 : 22\n",
      "Enter number 2 : 33\n",
      "Enter number 3 : 44\n",
      "Enter number 4 : 55\n",
      "Enter number 5 : 66\n",
      "Enter number 6 : 77\n",
      "Enter number 7 : 88\n",
      "Enter number 8 : 99\n",
      "Enter number 9 : 111\n",
      "Enter number 10 : 222\n",
      "\n",
      "Final List:\n",
      "[22, 44, 66, 88, 222]\n"
     ]
    }
   ],
   "source": [
    "List = []\n",
    "for i in range(10):\n",
    "    num = int(input(\"Enter number \" + str(i+1) + \" : \"))\n",
    "    if(num%2 == 0):\n",
    "        List.append(num)\n",
    "print(\"\\nFinal List:\")\n",
    "print(List)"
   ]
  },
  {
   "cell_type": "markdown",
   "metadata": {},
   "source": [
    "### Questions 2: Create a notebook on LIST COMPREHENSION. This exercise is to put you in a Self learning mode"
   ]
  },
  {
   "cell_type": "markdown",
   "metadata": {},
   "source": [
    "##### List comprehensions provide us with a simple way to create a list based on some iterable. During the creation, elements from the iterable can be conditionally included in the new list and transformed as needed.\n",
    ">Syntax:\n",
    "new_list = (value for_loop condition)"
   ]
  },
  {
   "cell_type": "markdown",
   "metadata": {},
   "source": [
    "Example:"
   ]
  },
  {
   "cell_type": "code",
   "execution_count": 2,
   "metadata": {},
   "outputs": [
    {
     "name": "stdout",
     "output_type": "stream",
     "text": [
      "[2, 4, 6, 8, 10]\n",
      "[3, 6, 9]\n"
     ]
    }
   ],
   "source": [
    "Raw_list = [1, 2, 3, 4, 5, 6, 7, 8, 9, 10]\n",
    "even_list = [i for i in Raw_list if i%2==0 ]\n",
    "odd_list = [i for i in Raw_list if i%3==0 ]\n",
    "print(even_list)\n",
    "print(odd_list)"
   ]
  },
  {
   "cell_type": "markdown",
   "metadata": {},
   "source": [
    "### Questions 3: You have seen in the videos how powerful dictionary data structure is. In this assignment, given a number n, you have to write a program that generates a dictionary d which contains (i, i*i), where i is from 1 to n (both included). Then you have to just print this dictionary d. \n",
    ">Example: Input: 4 will give output as {1: 1, 2: 4, 3: 9, 4: 16} \n",
    "\n",
    ">Input Format: Take the number n in a single line. \n",
    "\n",
    ">Output Format: Print the dictionary d in a single line. \n",
    "\n",
    ">Example: Input: 8 \n",
    "\n",
    ">Output: {1: 1, 2: 4, 3: 9, 4: 16, 5: 25, 6: 36, 7: 49, 8: 64} "
   ]
  },
  {
   "cell_type": "code",
   "execution_count": 3,
   "metadata": {},
   "outputs": [
    {
     "name": "stdout",
     "output_type": "stream",
     "text": [
      "5\n",
      "{1: 1, 2: 4, 3: 9, 4: 16, 5: 25}\n"
     ]
    }
   ],
   "source": [
    "dict = {}\n",
    "n = int(input())\n",
    "for i in range(1,n+1):\n",
    "  dict[i] = i*i\n",
    "print(dict)"
   ]
  },
  {
   "cell_type": "markdown",
   "metadata": {},
   "source": [
    "### Questions 4: There is a robot which wants to go the charging point to charge itself. The robot moves in a 2-D plane from the original point (0,0). The robot can move toward UP, DOWN, LEFT and RIGHT with given steps. The trace of robot movement is shown as the following: \n",
    "#### UP 5 \n",
    "#### DOWN 3 \n",
    "#### LEFT 3 \n",
    "#### RIGHT 2 \n",
    "### Then, the output of the program should be: 2 The numbers after the direction are steps. \n",
    "##### Write a program to compute the distance between the current position after a sequence of movement and original point. If the distance is a float,Then just print the nearest integer (use round() function for that and then convert it into an integer). \n",
    "##### Input Format: The first line of the input contains a number n which implies the number of directions to be given. The next n lines contain the direction and the step separated by a space. \n",
    "##### Output Format: Print the distance from the original position to the current position. "
   ]
  },
  {
   "cell_type": "code",
   "execution_count": 4,
   "metadata": {},
   "outputs": [
    {
     "name": "stdout",
     "output_type": "stream",
     "text": [
      "4\n",
      "UP 5\n",
      "DOWN 3\n",
      "LEFT 3\n",
      "RIGHT 2\n",
      "2\n"
     ]
    }
   ],
   "source": [
    "import math\n",
    "pos = [0,0]\n",
    "n=int(input())\n",
    "for i in range(1,n+1):\n",
    "    p = input()\n",
    "    s = p.upper()\n",
    "    if not s:\n",
    "        break\n",
    "    movement = s.split(\" \")\n",
    "    direction = movement[0]\n",
    "    steps = int(movement[1])\n",
    "    if direction==\"UP\":\n",
    "        pos[0]+=steps\n",
    "    elif direction==\"DOWN\":\n",
    "        pos[0]-=steps\n",
    "    elif direction==\"LEFT\":\n",
    "        pos[1]-=steps\n",
    "    elif direction==\"RIGHT\":\n",
    "        pos[1]+=steps\n",
    "\n",
    "print (round(math.sqrt(pos[1]**2+pos[0]**2)))"
   ]
  }
 ],
 "metadata": {
  "kernelspec": {
   "display_name": "Python 3",
   "language": "python",
   "name": "python3"
  },
  "language_info": {
   "codemirror_mode": {
    "name": "ipython",
    "version": 3
   },
   "file_extension": ".py",
   "mimetype": "text/x-python",
   "name": "python",
   "nbconvert_exporter": "python",
   "pygments_lexer": "ipython3",
   "version": "3.8.3"
  }
 },
 "nbformat": 4,
 "nbformat_minor": 4
}
