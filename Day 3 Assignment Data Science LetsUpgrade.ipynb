{
 "cells": [
  {
   "cell_type": "markdown",
   "metadata": {},
   "source": [
    "### Questions 1: Create a numpy array starting from 2 till 50 with a stepsize of 3."
   ]
  },
  {
   "cell_type": "code",
   "execution_count": 1,
   "metadata": {},
   "outputs": [
    {
     "data": {
      "text/plain": [
       "array([ 2,  5,  8, 11, 14, 17, 20, 23, 26, 29, 32, 35, 38, 41, 44, 47, 50])"
      ]
     },
     "execution_count": 1,
     "metadata": {},
     "output_type": "execute_result"
    }
   ],
   "source": [
    "import numpy as np\n",
    "np.arange(start=2, stop=53, step=3)"
   ]
  },
  {
   "cell_type": "markdown",
   "metadata": {},
   "source": [
    "### Questions 2: Accept two lists of 5 elements each from the user. Convert them to numpy arrays. Concatenate these arrays and print it. Also sort these arrays and print it."
   ]
  },
  {
   "cell_type": "code",
   "execution_count": 2,
   "metadata": {},
   "outputs": [
    {
     "name": "stdout",
     "output_type": "stream",
     "text": [
      "11\n",
      "12\n",
      "32\n",
      "56\n",
      "45\n",
      "List 1 : [11, 12, 32, 56, 45] \n",
      "\n",
      "77\n",
      "98\n",
      "87\n",
      "95\n",
      "46\n",
      "List 2 : [77, 98, 87, 95, 46] \n",
      "\n",
      "Array List1 : [11 12 32 56 45]\n",
      "Array List2 : [77 98 87 95 46]\n",
      "Concatenation Array : [11 12 32 56 45 77 98 87 95 46]\n",
      "Sorted Array : [11 12 32 45 46 56 77 87 95 98]\n"
     ]
    }
   ],
   "source": [
    "import numpy as np\n",
    "A=[]\n",
    "B=[]\n",
    "\n",
    "for i in range(5):\n",
    "    number1 = int(input(''))\n",
    "    A.append(number1)\n",
    "print(\"List 1 :\",A,'\\n')\n",
    "\n",
    "for j in range(5):\n",
    "    number2 = int(input())\n",
    "    B.append(number2)\n",
    "print(\"List 2 :\",B,'\\n')\n",
    "\n",
    "List1=np.array(A)                                         # Converting List to Array\n",
    "print(\"Array List1 :\",List1)\n",
    "\n",
    "List2=np.array(B)                                         # Converting List to Array\n",
    "print(\"Array List2 :\",List2)\n",
    "\n",
    "Concatenation_Array=np.concatenate((A,B))                 # Concatenation of Arrays\n",
    "print(\"Concatenation Array :\",Concatenation_Array)\n",
    "\n",
    "Sorted_Array=np.sort(Concatenation_Array)                 # Sorting of Array\n",
    "print(\"Sorted Array :\",Sorted_Array)"
   ]
  },
  {
   "cell_type": "markdown",
   "metadata": {},
   "source": [
    "### Questions 3: Write a code snippet to find the dimensions of a ndarray and its size."
   ]
  },
  {
   "cell_type": "code",
   "execution_count": 3,
   "metadata": {},
   "outputs": [
    {
     "name": "stdout",
     "output_type": "stream",
     "text": [
      "Array List : \n",
      " [[1 3 2]\n",
      " [4 5 6]\n",
      " [7 9 8]\n",
      " [2 1 5]]\n",
      "Dimensions of Array Is : 2\n",
      "Shape Of Array Is :  (4, 3)\n",
      "Size Of Array Is : 12\n"
     ]
    }
   ],
   "source": [
    "import numpy as np\n",
    "arr = np.array([1,3,2,4,5,6,7,9,8,2,1,5])\n",
    "\n",
    "arr1=arr.reshape(4,3)\n",
    "print(\"Array List :\",'\\n',arr1)\n",
    "\n",
    "print(\"Dimensions of Array Is :\", arr1.ndim)\n",
    "print(\"Shape Of Array Is : \", arr1.shape)\n",
    "print(\"Size Of Array Is :\", arr1.size)"
   ]
  },
  {
   "cell_type": "markdown",
   "metadata": {},
   "source": [
    "### Questions 4: How to convert a 1D array into a 2D array? Demonstrate with the help of a code snippet \n",
    ">Hint: np.newaxis, np.expand_dims "
   ]
  },
  {
   "cell_type": "code",
   "execution_count": 4,
   "metadata": {},
   "outputs": [
    {
     "name": "stdout",
     "output_type": "stream",
     "text": [
      "Shape of Array : (10,)\n",
      "\n",
      "Shape of 2d Array in row major : (1, 10)\n",
      "\n",
      "Shape of 2d Array in column major : (10, 1)\n",
      "\n",
      "Shape of Array : (9,)\n",
      "\n",
      "Shape of 2d Array in row major : (1, 9)\n",
      "\n",
      "Shape of 2d Array in column major : (9, 1)\n"
     ]
    }
   ],
   "source": [
    "import numpy as np\n",
    "\n",
    "arr = np.arange(10)\n",
    "print(\"Shape of Array :\",arr.shape)\n",
    "\n",
    "row_arr = arr[np.newaxis, :]\n",
    "print(\"\\nShape of 2d Array in row major :\",row_arr.shape)\n",
    "\n",
    "column_arr = arr[:, np.newaxis]\n",
    "print(\"\\nShape of 2d Array in column major :\",column_arr.shape)\n",
    "\n",
    "\n",
    "arr = np.arange(9)\n",
    "print(\"\\nShape of Array :\",arr.shape)\n",
    "\n",
    "row_arr = np.expand_dims(arr, axis=0)\n",
    "print(\"\\nShape of 2d Array in row major :\",row_arr.shape)\n",
    "\n",
    "column_arr = np.expand_dims(arr, axis=1)\n",
    "print(\"\\nShape of 2d Array in column major :\",column_arr.shape)"
   ]
  },
  {
   "cell_type": "markdown",
   "metadata": {},
   "source": [
    "### Questions 5: Consider two square numpy arrays. Stack them vertically and horizontally. \n",
    ">Hint: Use vstack(), hstack() "
   ]
  },
  {
   "cell_type": "code",
   "execution_count": 5,
   "metadata": {},
   "outputs": [
    {
     "name": "stdout",
     "output_type": "stream",
     "text": [
      "Horizontal Append : [ 12  24  49   6  15   3  55   6   8 111]\n",
      "Vertical Append :\n",
      " [[ 12  24  49   6  15]\n",
      " [  3  55   6   8 111]]\n"
     ]
    }
   ],
   "source": [
    "import numpy as np\n",
    "\n",
    "arr_1 = np.array([12, 24, 49, 6, 15])\n",
    "arr_2 = np.array([3, 55, 6, 8, 111])\n",
    "\n",
    "print(\"Horizontal Append :\", np.hstack((arr_1, arr_2)))\n",
    "print(\"Vertical Append :\\n\", np.vstack((arr_1, arr_2)))"
   ]
  },
  {
   "cell_type": "markdown",
   "metadata": {},
   "source": [
    "### Questions 6: How to get unique items and counts of unique items? "
   ]
  },
  {
   "cell_type": "code",
   "execution_count": 6,
   "metadata": {},
   "outputs": [
    {
     "name": "stdout",
     "output_type": "stream",
     "text": [
      "Array:\n",
      "[ 1 10 20  1  2 20  2 30  3 50 40  4 45 22  6  8] \n",
      "\n",
      "Unique items and counts for unique items array:\n",
      "[[ 1  2  3  4  6  8 10 20 22 30 40 45 50]\n",
      " [ 2  2  1  1  1  1  1  2  1  1  1  1  1]]\n"
     ]
    }
   ],
   "source": [
    "import numpy as np\n",
    "Array = np.array( [1,10,20,1,2,20,2,30,3,50,40,4,45,22,6,8] )\n",
    "print(\"Array:\")\n",
    "print(Array ,\"\\n\")\n",
    "unique_elements, counts_elements = np.unique(Array, return_counts=True)\n",
    "print(\"Unique items and counts for unique items array:\")\n",
    "print(np.asarray((unique_elements, counts_elements)))"
   ]
  }
 ],
 "metadata": {
  "kernelspec": {
   "display_name": "Python 3",
   "language": "python",
   "name": "python3"
  },
  "language_info": {
   "codemirror_mode": {
    "name": "ipython",
    "version": 3
   },
   "file_extension": ".py",
   "mimetype": "text/x-python",
   "name": "python",
   "nbconvert_exporter": "python",
   "pygments_lexer": "ipython3",
   "version": "3.8.3"
  }
 },
 "nbformat": 4,
 "nbformat_minor": 4
}
